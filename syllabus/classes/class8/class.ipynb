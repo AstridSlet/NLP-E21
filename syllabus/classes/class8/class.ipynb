{
 "cells": [
  {
   "cell_type": "code",
   "execution_count": 4,
   "metadata": {},
   "outputs": [
    {
     "output_type": "stream",
     "name": "stdout",
     "text": "[=================---------------------------------] 35.5% 23.4/66.0MB downloadedIOPub message rate exceeded.\nThe notebook server will temporarily stop sending output\nto the client in order to avoid crashing it.\nTo change this limit, set the config variable\n`--NotebookApp.iopub_msg_rate_limit`.\n\nCurrent values:\nNotebookApp.iopub_msg_rate_limit=1000.0 (msgs/sec)\nNotebookApp.rate_limit_window=3.0 (secs)\n\n[==================================================] 100.0% 66.0/66.0MB downloaded\n"
    }
   ],
   "source": [
    "import gensim.downloader as api\n",
    "word_emb = api.load(\"glove-wiki-gigaword-50\")"
   ]
  },
  {
   "cell_type": "code",
   "execution_count": 14,
   "metadata": {},
   "outputs": [
    {
     "output_type": "stream",
     "name": "stdout",
     "text": "(50,)\n"
    }
   ],
   "source": [
    "knife = word_emb[\"knife\"]\n",
    "fork = word_emb[\"fork\"]\n",
    "sunshine = word_emb[\"sunshine\"]\n"
   ]
  },
  {
   "cell_type": "code",
   "execution_count": 7,
   "metadata": {},
   "outputs": [],
   "source": [
    "import numpy as np"
   ]
  },
  {
   "cell_type": "code",
   "execution_count": 8,
   "metadata": {},
   "outputs": [
    {
     "output_type": "stream",
     "name": "stdout",
     "text": "10.486614\n"
    }
   ],
   "source": [
    "# calculate dot product similar words\n",
    "print(np.dot(knife, fork))"
   ]
  },
  {
   "cell_type": "code",
   "execution_count": 10,
   "metadata": {},
   "outputs": [
    {
     "output_type": "stream",
     "name": "stdout",
     "text": "-3.200121\n6.2497005\n"
    }
   ],
   "source": [
    "# calculate dot product dissimilar words\n",
    "print(np.dot(knife, sunshine))\n",
    "print(np.dot(fork, sunshine))"
   ]
  },
  {
   "cell_type": "code",
   "execution_count": 16,
   "metadata": {},
   "outputs": [],
   "source": [
    "E = np.array([knife, fork, sunshine])"
   ]
  },
  {
   "cell_type": "code",
   "execution_count": 25,
   "metadata": {},
   "outputs": [
    {
     "output_type": "execute_result",
     "data": {
      "text/plain": "(3, 50)"
     },
     "metadata": {},
     "execution_count": 25
    }
   ],
   "source": [
    "E.shape"
   ]
  },
  {
   "cell_type": "code",
   "execution_count": 23,
   "metadata": {},
   "outputs": [
    {
     "output_type": "execute_result",
     "data": {
      "text/plain": "(50, 3)"
     },
     "metadata": {},
     "execution_count": 23
    }
   ],
   "source": [
    "E_transposed = E.transpose()\n",
    "E_transposed.shape"
   ]
  },
  {
   "cell_type": "code",
   "execution_count": 26,
   "metadata": {},
   "outputs": [
    {
     "output_type": "execute_result",
     "data": {
      "text/plain": "array([[27.986065, 10.486617, -3.20012 ],\n       [10.486617, 27.62143 ,  6.2497  ],\n       [-3.20012 ,  6.2497  , 18.536959]], dtype=float32)"
     },
     "metadata": {},
     "execution_count": 26
    }
   ],
   "source": [
    "dot = np.dot(E, E_transposed)\n",
    "dot"
   ]
  },
  {
   "cell_type": "code",
   "execution_count": null,
   "metadata": {},
   "outputs": [],
   "source": []
  }
 ],
 "metadata": {
  "language_info": {
   "codemirror_mode": {
    "name": "ipython",
    "version": 3
   },
   "file_extension": ".py",
   "mimetype": "text/x-python",
   "name": "python",
   "nbconvert_exporter": "python",
   "pygments_lexer": "ipython3",
   "version": "3.7.3-final"
  },
  "orig_nbformat": 2,
  "kernelspec": {
   "name": "python37364bit256af8f4adc841d0af256f7dce912415",
   "display_name": "Python 3.7.3 64-bit"
  }
 },
 "nbformat": 4,
 "nbformat_minor": 2
}